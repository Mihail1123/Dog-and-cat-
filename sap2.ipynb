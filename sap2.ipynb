{
 "cells": [
  {
   "cell_type": "code",
   "execution_count": 1,
   "metadata": {},
   "outputs": [
    {
     "name": "stderr",
     "output_type": "stream",
     "text": [
      "WARNING:absl:Compiled the loaded model, but the compiled metrics have yet to be built. `model.compile_metrics` will be empty until you train or evaluate the model.\n"
     ]
    },
    {
     "data": {
      "application/vnd.jupyter.widget-view+json": {
       "model_id": "979114ae07004b2fa9fc88a1ca30eb02",
       "version_major": 2,
       "version_minor": 0
      },
      "text/plain": [
       "VBox(children=(Label(value='Качете изображение за класифициране:'), FileUpload(value=(), accept='image/*', des…"
      ]
     },
     "execution_count": 1,
     "metadata": {},
     "output_type": "execute_result"
    },
    {
     "name": "stdout",
     "output_type": "stream",
     "text": [
      "{'name': 'cat9.jpg', 'type': 'image/jpeg', 'size': 8116, 'content': <memory at 0x164ec7400>, 'last_modified': datetime.datetime(2017, 7, 18, 1, 38, 24, tzinfo=datetime.timezone.utc)}\n",
      "\u001b[1m1/1\u001b[0m \u001b[32m━━━━━━━━━━━━━━━━━━━━\u001b[0m\u001b[37m\u001b[0m \u001b[1m1s\u001b[0m 1s/step\n"
     ]
    }
   ],
   "source": [
    "import tensorflow as tf\n",
    "from tensorflow.keras.preprocessing import image\n",
    "import numpy as np\n",
    "import matplotlib.pyplot as plt\n",
    "from PIL import Image\n",
    "from ipywidgets import FileUpload, Button, VBox, Output, Label\n",
    "\n",
    "# Зареждане на обучената модел\n",
    "model = tf.keras.models.load_model('vgg16_model.h5')\n",
    "model.compile(optimizer='adam', loss='binary_crossentropy', metrics=['accuracy'])  # Компилиране на модела\n",
    "\n",
    "# Функция за подготовка на изображение\n",
    "def prepare_image(img_path, target_size=(224, 224)):\n",
    "    img = image.load_img(img_path, target_size=target_size)\n",
    "    img_array = image.img_to_array(img)\n",
    "    img_array = np.expand_dims(img_array, axis=0)  # Добавяне на размер за партида\n",
    "    img_array = img_array / 255.0  # Нормализиране на пикселите\n",
    "    return img_array\n",
    "\n",
    "# Функция за обработка на качено изображение\n",
    "def classify_image(change):\n",
    "    output.clear_output()  # Изчистване на предишни резултати\n",
    "    if uploaded_file.value:  # Проверка дали файлът е качен\n",
    "        file_info = uploaded_file.value[0]  # Вземане на първия файл от списъка\n",
    "        print(file_info)  # Извеждаме структурата на данните за анализ\n",
    "        \n",
    "        # Записване на изображението в временен файл\n",
    "        file_name = \"uploaded_image.jpg\"  # Присвояване на име на качения файл\n",
    "        with open(file_name, 'wb') as f:\n",
    "            f.write(file_info['content'])\n",
    "        \n",
    "        # Подготовка на изображението\n",
    "        img = prepare_image(file_name)\n",
    "        prediction = model.predict(img)\n",
    "        result = \"Куче\" if prediction[0][0] > 0.55 else \"Котка\"\n",
    "        \n",
    "        # Показване на изображението и резултата\n",
    "        with output:\n",
    "            pil_img = Image.open(file_name)\n",
    "            plt.figure(figsize=(4, 4))\n",
    "            plt.imshow(pil_img)\n",
    "            plt.axis('off')\n",
    "            plt.title(f\"Предсказание: {result}\")\n",
    "            plt.show()\n",
    "\n",
    "# Виджет за качване на файл\n",
    "uploaded_file = FileUpload(accept='image/*', multiple=False)\n",
    "\n",
    "# Бутон за стартиране на класификация\n",
    "classify_button = Button(description=\"Класифицирай\")\n",
    "classify_button.on_click(classify_image)\n",
    "\n",
    "# Изход за показване на резултата\n",
    "output = Output()\n",
    "\n",
    "# Компоновка на виджетите\n",
    "ui = VBox([\n",
    "    Label(\"Качете изображение за класифициране:\"),\n",
    "    uploaded_file,\n",
    "    classify_button,\n",
    "    output\n",
    "])\n",
    "\n",
    "ui\n",
    "\n",
    "\n",
    "\n",
    "\n",
    "\n"
   ]
  }
 ],
 "metadata": {
  "kernelspec": {
   "display_name": "Python 3",
   "language": "python",
   "name": "python3"
  },
  "language_info": {
   "codemirror_mode": {
    "name": "ipython",
    "version": 3
   },
   "file_extension": ".py",
   "mimetype": "text/x-python",
   "name": "python",
   "nbconvert_exporter": "python",
   "pygments_lexer": "ipython3",
   "version": "3.11.0"
  }
 },
 "nbformat": 4,
 "nbformat_minor": 2
}
